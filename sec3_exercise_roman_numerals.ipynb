{
 "cells": [
  {
   "cell_type": "markdown",
   "id": "7a3b63a3",
   "metadata": {},
   "source": [
    "# Section 3 Exercise - Roman Numerals\n",
    "\n",
    "\n",
    "| Arabic Numeral | Roman Numeral  |\n",
    "| :-------       | :-------       | \n",
    "| 1              | I              |\n",
    "| 5              | V              |\n",
    "| 10             | X              |\n",
    "| 50             | L              |\n",
    "| 100            | C              |\n",
    "| 500            | D              |\n",
    "| 1000           | M              |\n",
    "\n",
    "### Example\n",
    "\n",
    "2021 => MMXXI\n",
    "\n",
    "\n",
    "Source: [Coding Dojo](https://codingdojo.org/kata/RomanNumerals/)"
   ]
  },
  {
   "cell_type": "code",
   "execution_count": null,
   "id": "c03be0a9",
   "metadata": {},
   "outputs": [],
   "source": [
    "function roman_numeral(num)\n",
    "   # TODO \n",
    "end"
   ]
  },
  {
   "cell_type": "code",
   "execution_count": 23,
   "id": "fbf3802c",
   "metadata": {},
   "outputs": [
    {
     "data": {
      "text/plain": [
       "roman_numeral (generic function with 1 method)"
      ]
     },
     "execution_count": 23,
     "metadata": {},
     "output_type": "execute_result"
    }
   ],
   "source": [
    "function roman_numeral(num)\n",
    "    roman_dict = Dict(\n",
    "        1 =>  \"I\",\n",
    "        4 => \"IV\",\n",
    "        5 =>  \"V\",\n",
    "        9 => \"IX\",\n",
    "       10 =>  \"X\",\n",
    "       40 => \"XL\",\n",
    "       50 =>  \"L\",\n",
    "       90 => \"XC\",\n",
    "      100 =>  \"C\",\n",
    "      400 => \"CD\",\n",
    "      500 =>  \"D\",\n",
    "      900 => \"CM\",\n",
    "     1000 =>  \"M\"\n",
    "    )\n",
    "    \n",
    "    num_string = \"\"\n",
    "    for key in sort(collect(keys(roman_dict)), rev=true)\n",
    "        while (num >= key)\n",
    "            num -= key\n",
    "            num_string *= roman_dict[key]\n",
    "        end\n",
    "    end\n",
    "    return num_string\n",
    "end"
   ]
  },
  {
   "cell_type": "code",
   "execution_count": 25,
   "id": "86fbd9b0",
   "metadata": {},
   "outputs": [],
   "source": [
    "@assert roman_numeral(41) === \"XLI\"\n",
    "@assert roman_numeral(67) === \"LXVII\"\n",
    "@assert roman_numeral(549) === \"DXLIX\"\n",
    "@assert roman_numeral(732) === \"DCCXXXII\"\n",
    "@assert roman_numeral(2021) === \"MMXXI\"\n",
    "@assert roman_numeral(3549) === \"MMMDXLIX\""
   ]
  }
 ],
 "metadata": {
  "kernelspec": {
   "display_name": "Julia 1.6.0",
   "language": "julia",
   "name": "julia-1.6"
  },
  "language_info": {
   "file_extension": ".jl",
   "mimetype": "application/julia",
   "name": "julia",
   "version": "1.6.0"
  }
 },
 "nbformat": 4,
 "nbformat_minor": 5
}
