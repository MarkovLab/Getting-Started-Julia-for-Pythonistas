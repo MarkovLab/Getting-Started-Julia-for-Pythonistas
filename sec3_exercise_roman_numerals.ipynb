{
 "cells": [
  {
   "cell_type": "markdown",
   "id": "7a3b63a3",
   "metadata": {},
   "source": [
    "# Section 3 Exercise - Roman Numerals\n",
    "\n",
    "\n",
    "| Arabic Numeral | Roman Numeral  |\n",
    "| :-------       | :-------       | \n",
    "| 1              | I              |\n",
    "| 5              | V              |\n",
    "| 10             | X              |\n",
    "| 50             | L              |\n",
    "| 100            | C              |\n",
    "| 500            | D              |\n",
    "| 1000           | M              |\n",
    "\n",
    "### Example\n",
    "\n",
    "2021 => MMXXI\n",
    "\n",
    "\n",
    "Source: [Coding Dojo](https://codingdojo.org/kata/RomanNumerals/)"
   ]
  },
  {
   "cell_type": "code",
   "execution_count": 3,
   "id": "722d4198",
   "metadata": {},
   "outputs": [
    {
     "data": {
      "text/plain": [
       "Dict{Int64, String} with 1 entry:\n",
       "  1 => \"A\""
      ]
     },
     "execution_count": 3,
     "metadata": {},
     "output_type": "execute_result"
    }
   ],
   "source": [
    "Dict(1 => \"A\")"
   ]
  },
  {
   "cell_type": "code",
   "execution_count": null,
   "id": "c03be0a9",
   "metadata": {},
   "outputs": [],
   "source": [
    "function roman_numeral(num)\n",
    "   # TODO \n",
    "end"
   ]
  },
  {
   "cell_type": "code",
   "execution_count": null,
   "id": "fbf3802c",
   "metadata": {},
   "outputs": [],
   "source": [
    "function roman_numeral(num)\n",
    "    roman_dict = Dict(\n",
    "        1 => \"I\",\n",
    "        5 => \"V\",\n",
    "       10 => \"X\",\n",
    "       50 => \"L\",\n",
    "      100 => \"C\",\n",
    "      500 => \"D\",\n",
    "     1000 => \"M\"\n",
    "    )\n",
    "    \n",
    "end"
   ]
  },
  {
   "cell_type": "code",
   "execution_count": null,
   "id": "86fbd9b0",
   "metadata": {},
   "outputs": [],
   "source": [
    "@assert roman_numeral(41) === \"XLI\"\n",
    "@assert roman_numeral(67) === \"LXVII\"\n",
    "@assert roman_numeral(549) === \"DXLIX\"\n",
    "@assert roman_numeral(732) === \"DCCXXXII\"\n",
    "@assert roman_numeral(2021) === \"MMXXI\""
   ]
  }
 ],
 "metadata": {
  "kernelspec": {
   "display_name": "Julia 1.6.0",
   "language": "julia",
   "name": "julia-1.6"
  },
  "language_info": {
   "file_extension": ".jl",
   "mimetype": "application/julia",
   "name": "julia",
   "version": "1.6.0"
  }
 },
 "nbformat": 4,
 "nbformat_minor": 5
}
