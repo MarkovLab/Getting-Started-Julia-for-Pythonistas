{
 "cells": [
  {
   "cell_type": "markdown",
   "id": "cd7561b4",
   "metadata": {},
   "source": [
    "# Section 3: Basics - Functions"
   ]
  },
  {
   "cell_type": "markdown",
   "id": "c5d8b55e-b2b1-4f66-8883-ca8c4b64a62a",
   "metadata": {},
   "source": [
    "## Functions"
   ]
  },
  {
   "cell_type": "code",
   "execution_count": null,
   "id": "72f7aa8b-f748-4fa2-9156-c29ead464fd2",
   "metadata": {},
   "outputs": [],
   "source": []
  },
  {
   "cell_type": "code",
   "execution_count": 2,
   "id": "e851971d-b4cf-4e8e-973f-39eac1e3c95c",
   "metadata": {},
   "outputs": [],
   "source": [
    "# Default Values"
   ]
  },
  {
   "cell_type": "code",
   "execution_count": 1,
   "id": "a42f7a82-3d15-4be8-8518-a56c1663cc00",
   "metadata": {},
   "outputs": [],
   "source": [
    "# Keyword Arguments"
   ]
  },
  {
   "cell_type": "code",
   "execution_count": 3,
   "id": "a52bf509-8b95-44c8-8ac5-e40163dd8737",
   "metadata": {},
   "outputs": [],
   "source": [
    "# Type Declaration"
   ]
  },
  {
   "cell_type": "code",
   "execution_count": null,
   "id": "6daeb4a6-990f-4b1d-927f-5475bb15b459",
   "metadata": {},
   "outputs": [],
   "source": []
  }
 ],
 "metadata": {
  "kernelspec": {
   "display_name": "Julia 1.6.0",
   "language": "julia",
   "name": "julia-1.6"
  },
  "language_info": {
   "file_extension": ".jl",
   "mimetype": "application/julia",
   "name": "julia",
   "version": "1.6.0"
  }
 },
 "nbformat": 4,
 "nbformat_minor": 5
}
