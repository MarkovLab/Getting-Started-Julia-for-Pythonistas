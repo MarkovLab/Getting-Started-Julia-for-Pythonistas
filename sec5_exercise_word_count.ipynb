{
 "cells": [
  {
   "cell_type": "markdown",
   "id": "e306b35b",
   "metadata": {},
   "source": [
    "# Section 5 Exercise - Word Count\n",
    "\n",
    "\n",
    "<img src=\"./img/william_shakespeare.png\" alt=\"William Shakespeare\" width=\"250\" />\n",
    "\n",
    "Sonnet 18"
   ]
  },
  {
   "cell_type": "code",
   "execution_count": 4,
   "id": "44a3ef11",
   "metadata": {},
   "outputs": [],
   "source": [
    "txt = \"\"\"Shall I compare thee to a summer's day?\n",
    "         Thou art more lovely and more temperate:\n",
    "         Rough winds do shake the darling buds of May,\n",
    "         And summer's lease hath all too short a date:\n",
    "         Sometime too hot the eye of heaven shines,\n",
    "         And often is his gold complexion dimmed,\n",
    "         And every fair from fair sometime declines,\n",
    "         By chance, or nature's changing course untrimmed:\n",
    "         But thy eternal summer shall not fade,\n",
    "         Nor lose possession of that fair thou ow'st,\n",
    "         Nor shall death brag thou wander'st in his shade,\n",
    "         When in eternal lines to time thou grow'st,\n",
    "         So long as men can breathe, or eyes can see,\n",
    "         So long lives this, and this gives life to thee.\"\"\"\n",
    ";"
   ]
  },
  {
   "cell_type": "code",
   "execution_count": 10,
   "id": "4b16c92a",
   "metadata": {},
   "outputs": [
    {
     "data": {
      "text/plain": [
       "tokenize (generic function with 1 method)"
      ]
     },
     "execution_count": 10,
     "metadata": {},
     "output_type": "execute_result"
    }
   ],
   "source": [
    "function tokenize(txt::String)::Vector{String}\n",
    "    # TODO\n",
    "end"
   ]
  },
  {
   "cell_type": "code",
   "execution_count": 11,
   "id": "7933ed47",
   "metadata": {},
   "outputs": [
    {
     "data": {
      "text/plain": [
       "word_count (generic function with 1 method)"
      ]
     },
     "execution_count": 11,
     "metadata": {},
     "output_type": "execute_result"
    }
   ],
   "source": [
    "function word_count(token_array::Vector{String})::Dict{String, Int64}\n",
    "    # TODO\n",
    "end"
   ]
  },
  {
   "cell_type": "code",
   "execution_count": 51,
   "id": "9f8994a2",
   "metadata": {},
   "outputs": [],
   "source": [
    "function tokenize(txt::String)::Vector{String}\n",
    "    txt_mod = strip(txt)\n",
    "    txt_mod = lowercase(txt_mod)\n",
    "    txt_mod = replace(txt_mod, \"\\n\" => \" \")\n",
    "    txt_mod = replace(txt_mod, r\"[,.:?]\" => \"\")\n",
    "    txt_arr = split(txt_mod, \" \")\n",
    "    txt_arr = map(x -> split(x, \"'\")[1], txt_arr)\n",
    "    txt_arr\n",
    "end;"
   ]
  },
  {
   "cell_type": "code",
   "execution_count": 46,
   "id": "2f140b3f",
   "metadata": {},
   "outputs": [],
   "source": [
    "function word_count(token_array::Vector{String})::Dict{String, Int64}\n",
    "    count_dict = Dict()\n",
    "    for token in token_array\n",
    "        if !isempty(token)\n",
    "            if (token ∉ keys(count_dict))\n",
    "                count_dict[token] = 1\n",
    "            else\n",
    "                count_dict[token] += 1\n",
    "            end\n",
    "        end\n",
    "    end\n",
    "    return count_dict\n",
    "end;"
   ]
  },
  {
   "cell_type": "code",
   "execution_count": 52,
   "id": "21f93ec3",
   "metadata": {},
   "outputs": [],
   "source": [
    "token_array = tokenize(txt)\n",
    "word_count_dict = word_count(token_array)\n",
    "@assert word_count_dict[\"of\"] === 3\n",
    "@assert word_count_dict[\"summer\"] === 3\n",
    "@assert word_count_dict[\"wander\"] === 1\n",
    "@assert word_count_dict[\"day\"] === 1\n",
    "@assert word_count_dict[\"untrimmed\"] === 1\n",
    "@assert word_count_dict[\"thee\"] === 2"
   ]
  }
 ],
 "metadata": {
  "kernelspec": {
   "display_name": "Julia 1.6.0",
   "language": "julia",
   "name": "julia-1.6"
  },
  "language_info": {
   "file_extension": ".jl",
   "mimetype": "application/julia",
   "name": "julia",
   "version": "1.6.0"
  }
 },
 "nbformat": 4,
 "nbformat_minor": 5
}
