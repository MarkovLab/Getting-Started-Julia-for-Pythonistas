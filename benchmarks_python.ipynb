{
 "cells": [
  {
   "cell_type": "markdown",
   "id": "7d664e37-a7ee-42aa-977c-b07a2cbcbb25",
   "metadata": {},
   "source": [
    "# Benchmarks in Python \n",
    "\n",
    "## Fibonacci Numbers\n",
    "\n",
    "$F_0 = 0$\n",
    "\n",
    "$F_1 = 1$\n",
    "\n",
    "$F_n = F_{n-1} + F_{n-2}$\n",
    "\n",
    "as such \n",
    "\n",
    "$F_2 = F_{1} + F_{0}$"
   ]
  },
  {
   "cell_type": "code",
   "execution_count": 49,
   "id": "19ffc10e-c337-4ded-a51b-c0fb7da9dcad",
   "metadata": {},
   "outputs": [],
   "source": [
    "def fibonacci(n):\n",
    "    a, b = 0, 1\n",
    "    \n",
    "    if n < 0:\n",
    "        print(\"Incorrect input\")\n",
    "    elif n == 0: \n",
    "        return a\n",
    "    elif n == 1: \n",
    "        return b\n",
    "    \n",
    "    for i in range(2,n+1):\n",
    "        c = a + b\n",
    "        a = b\n",
    "        b = c\n",
    "    return c"
   ]
  },
  {
   "cell_type": "code",
   "execution_count": 50,
   "id": "9bde5bf7-7db1-44f0-9ab3-82c9408d4774",
   "metadata": {},
   "outputs": [
    {
     "name": "stdout",
     "output_type": "stream",
     "text": [
      "869 ns ± 2.87 ns per loop (mean ± std. dev. of 7 runs, 1000000 loops each)\n"
     ]
    }
   ],
   "source": [
    "%timeit fibonacci(25)"
   ]
  },
  {
   "cell_type": "markdown",
   "id": "4f3b5193-e243-420e-b90d-120153d6e15e",
   "metadata": {},
   "source": [
    "## Prime Factorization"
   ]
  },
  {
   "cell_type": "code",
   "execution_count": 54,
   "id": "2bb0382f-2473-4af6-8608-5287fd26b9a9",
   "metadata": {},
   "outputs": [],
   "source": [
    "import math"
   ]
  },
  {
   "cell_type": "code",
   "execution_count": 85,
   "id": "18647623-161a-4ae6-98eb-35e7db456f3b",
   "metadata": {},
   "outputs": [],
   "source": [
    "def prime_factors(n):\n",
    "    factors = []\n",
    "    while n % 2 == 0:\n",
    "        factors.append(2)\n",
    "        n //= 2\n",
    "    \n",
    "    for i in range(3,int(math.sqrt(n))+1,2):\n",
    "        while n % i == 0:\n",
    "            factors.append(i)\n",
    "            n //= i\n",
    "            \n",
    "    if n > 2:\n",
    "        factors.append(n)\n",
    "    return factors"
   ]
  },
  {
   "cell_type": "code",
   "execution_count": 88,
   "id": "e9183e7a-e2db-42cc-acd9-c225122a0d53",
   "metadata": {},
   "outputs": [
    {
     "name": "stdout",
     "output_type": "stream",
     "text": [
      "134 ms ± 2.09 ms per loop (mean ± std. dev. of 7 runs, 10 loops each)\n"
     ]
    }
   ],
   "source": [
    "%timeit prime_factors(32015070858735)"
   ]
  }
 ],
 "metadata": {
  "kernelspec": {
   "display_name": "Python 3 (ipykernel)",
   "language": "python",
   "name": "python3"
  },
  "language_info": {
   "codemirror_mode": {
    "name": "ipython",
    "version": 3
   },
   "file_extension": ".py",
   "mimetype": "text/x-python",
   "name": "python",
   "nbconvert_exporter": "python",
   "pygments_lexer": "ipython3",
   "version": "3.8.3"
  }
 },
 "nbformat": 4,
 "nbformat_minor": 5
}
