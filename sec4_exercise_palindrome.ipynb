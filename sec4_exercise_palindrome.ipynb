{
 "cells": [
  {
   "cell_type": "markdown",
   "id": "e5e249a3",
   "metadata": {},
   "source": [
    "# Section 4 Exercise - Palidrome"
   ]
  },
  {
   "cell_type": "code",
   "execution_count": null,
   "id": "0d55cd71",
   "metadata": {},
   "outputs": [],
   "source": [
    "function ispalindrome(str::String)::Bool\n",
    "    # TODO\n",
    "end"
   ]
  },
  {
   "cell_type": "markdown",
   "id": "66bf8882",
   "metadata": {},
   "source": [
    "#### Palindrome Check using Recursion"
   ]
  },
  {
   "cell_type": "code",
   "execution_count": 29,
   "id": "eba6fa82",
   "metadata": {},
   "outputs": [
    {
     "data": {
      "text/plain": [
       "ispalindrome (generic function with 2 methods)"
      ]
     },
     "execution_count": 29,
     "metadata": {},
     "output_type": "execute_result"
    }
   ],
   "source": [
    "function ispalindrome(str::String)::Bool\n",
    "    # TODO\n",
    "    if (length(str) <= 1)\n",
    "        return true\n",
    "    end\n",
    "    if (lowercase(str[1]) === lowercase(str[end]))\n",
    "        return ispalindrome(str[2:end-1])\n",
    "    end\n",
    "    return false\n",
    "end"
   ]
  },
  {
   "cell_type": "markdown",
   "id": "52d063ad",
   "metadata": {},
   "source": [
    "#### Palindrome Check using Iteration"
   ]
  },
  {
   "cell_type": "code",
   "execution_count": 25,
   "id": "a648145c",
   "metadata": {},
   "outputs": [
    {
     "data": {
      "text/plain": [
       "ispalindrome (generic function with 2 methods)"
      ]
     },
     "execution_count": 25,
     "metadata": {},
     "output_type": "execute_result"
    }
   ],
   "source": [
    "function ispalindrome(str::String)::Bool\n",
    "    for i = 1:length(str)÷2\n",
    "        if (lowercase(str[i]) ≠ lowercase(str[end+1-i]))\n",
    "            return false\n",
    "        end\n",
    "    end\n",
    "    return true\n",
    "end"
   ]
  },
  {
   "cell_type": "markdown",
   "id": "9bf750a9",
   "metadata": {},
   "source": [
    "#### Palindrome Check using built-in string methods"
   ]
  },
  {
   "cell_type": "code",
   "execution_count": 5,
   "id": "a898c76f",
   "metadata": {},
   "outputs": [
    {
     "data": {
      "text/plain": [
       "#3 (generic function with 1 method)"
      ]
     },
     "execution_count": 5,
     "metadata": {},
     "output_type": "execute_result"
    }
   ],
   "source": [
    "ispalindrome = (str) -> lowercase(str) === str |> reverse |> lowercase"
   ]
  },
  {
   "cell_type": "code",
   "execution_count": 1,
   "id": "5ae46935",
   "metadata": {},
   "outputs": [
    {
     "data": {
      "text/plain": [
       "ispalindrome (generic function with 1 method)"
      ]
     },
     "execution_count": 1,
     "metadata": {},
     "output_type": "execute_result"
    }
   ],
   "source": [
    "ispalindrome(str) = lowercase(str) === str |> reverse |> lowercase"
   ]
  },
  {
   "cell_type": "code",
   "execution_count": 31,
   "id": "9a4547e0",
   "metadata": {},
   "outputs": [],
   "source": [
    "@assert !ispalindrome(\"hello\")\n",
    "@assert ispalindrome(\"Mom\")\n",
    "@assert ispalindrome(\"Dad\")\n",
    "@assert ispalindrome(\"wow\")\n",
    "@assert ispalindrome(\"noon\")\n",
    "@assert ispalindrome(\"level\")\n",
    "@assert ispalindrome(\"radar\")\n",
    "@assert ispalindrome(\"kayak\")\n",
    "@assert ispalindrome(\"tenet\")\n",
    "@assert ispalindrome(\"racecar\")\n",
    "@assert ispalindrome(\"rotator\")\n",
    "@assert ispalindrome(\"12345654321\")"
   ]
  }
 ],
 "metadata": {
  "kernelspec": {
   "display_name": "Julia 1.6.0",
   "language": "julia",
   "name": "julia-1.6"
  },
  "language_info": {
   "file_extension": ".jl",
   "mimetype": "application/julia",
   "name": "julia",
   "version": "1.6.0"
  }
 },
 "nbformat": 4,
 "nbformat_minor": 5
}
