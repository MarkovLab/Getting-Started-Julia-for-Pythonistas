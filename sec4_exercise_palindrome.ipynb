{
 "cells": [
  {
   "cell_type": "markdown",
   "id": "e5e249a3",
   "metadata": {},
   "source": [
    "# Section 4 Exercise - Palidrome"
   ]
  },
  {
   "cell_type": "code",
   "execution_count": null,
   "id": "eba6fa82",
   "metadata": {},
   "outputs": [],
   "source": [
    "function ispalindrome(str::String)::Bool\n",
    "    # TODO\n",
    "end"
   ]
  }
 ],
 "metadata": {
  "kernelspec": {
   "display_name": "Julia 1.6.0",
   "language": "julia",
   "name": "julia-1.6"
  },
  "language_info": {
   "file_extension": ".jl",
   "mimetype": "application/julia",
   "name": "julia",
   "version": "1.6.0"
  }
 },
 "nbformat": 4,
 "nbformat_minor": 5
}
