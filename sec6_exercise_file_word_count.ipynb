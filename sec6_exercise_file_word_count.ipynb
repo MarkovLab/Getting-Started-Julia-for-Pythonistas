{
 "cells": [
  {
   "cell_type": "markdown",
   "id": "278ced68",
   "metadata": {},
   "source": [
    "# Section 6 Exercise - Word Count Continued"
   ]
  },
  {
   "cell_type": "code",
   "execution_count": 59,
   "id": "c90e8f3a",
   "metadata": {},
   "outputs": [
    {
     "data": {
      "text/plain": [
       "tokenize (generic function with 1 method)"
      ]
     },
     "execution_count": 59,
     "metadata": {},
     "output_type": "execute_result"
    }
   ],
   "source": [
    "function tokenize(txt::String)::Vector{String}\n",
    "    txt_mod = strip(txt)\n",
    "    txt_mod = lowercase(txt_mod)\n",
    "    txt_mod = replace(txt_mod, \"\\n\" => \" \")\n",
    "    txt_mod = replace(txt_mod, r\"[,.:;!?()]\" => \"\")\n",
    "    txt_arr = split(txt_mod, \" \")\n",
    "    txt_arr = map(x -> split(x, \"'\")[1], txt_arr)\n",
    "    txt_arr\n",
    "end"
   ]
  },
  {
   "cell_type": "code",
   "execution_count": 60,
   "id": "8cb7254a",
   "metadata": {},
   "outputs": [
    {
     "data": {
      "text/plain": [
       "count_words (generic function with 1 method)"
      ]
     },
     "execution_count": 60,
     "metadata": {},
     "output_type": "execute_result"
    }
   ],
   "source": [
    "function count_words(token_array::Vector{String})::Dict{String, Int64}\n",
    "    count_dict = Dict()\n",
    "    for token in token_array\n",
    "        if !isempty(token)\n",
    "            if (token ∉ keys(count_dict))\n",
    "                count_dict[token] = 1\n",
    "            else\n",
    "                count_dict[token] += 1\n",
    "            end\n",
    "        end\n",
    "    end\n",
    "    return count_dict\n",
    "end"
   ]
  },
  {
   "cell_type": "code",
   "execution_count": null,
   "id": "70e0dc16",
   "metadata": {},
   "outputs": [],
   "source": [
    "# TODO"
   ]
  },
  {
   "cell_type": "code",
   "execution_count": 67,
   "id": "021d0a4c",
   "metadata": {},
   "outputs": [],
   "source": [
    "txt_files = filter(x -> x[end-3:end] === \".txt\", readdir(\"./data/\", join=true))\n",
    "\n",
    "word_count_dict = Dict()\n",
    "for file in txt_files\n",
    "    open(file, \"r\") do f\n",
    "        lines = readlines(f)\n",
    "        text = join(lines, \"\\n\")\n",
    "        \n",
    "        word_counts = text |> tokenize |> count_words\n",
    "        \n",
    "        # Add to Total Word Count\n",
    "        for (word,count) in word_counts\n",
    "            if (word ∉ keys(word_count_dict))\n",
    "                word_count_dict[word] = count\n",
    "            else\n",
    "                word_count_dict[word] += count\n",
    "            end\n",
    "        end\n",
    "    end\n",
    "end"
   ]
  },
  {
   "cell_type": "code",
   "execution_count": 66,
   "id": "07f039f5",
   "metadata": {},
   "outputs": [],
   "source": [
    "@assert length(word_count_dict) === 3096\n",
    "@assert word_count_dict[\"you\"] === 112\n",
    "@assert word_count_dict[\"abhor\"] === 2\n",
    "@assert word_count_dict[\"king\"] === 2\n",
    "@assert word_count_dict[\"tiger\"] === 1"
   ]
  }
 ],
 "metadata": {
  "kernelspec": {
   "display_name": "Julia 1.6.0",
   "language": "julia",
   "name": "julia-1.6"
  },
  "language_info": {
   "file_extension": ".jl",
   "mimetype": "application/julia",
   "name": "julia",
   "version": "1.6.0"
  }
 },
 "nbformat": 4,
 "nbformat_minor": 5
}
