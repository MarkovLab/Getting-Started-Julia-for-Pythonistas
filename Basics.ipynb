{
 "cells": [
  {
   "cell_type": "markdown",
   "id": "1f299f93",
   "metadata": {},
   "source": [
    "# Section 3: Basics - Variables and Functions"
   ]
  },
  {
   "cell_type": "code",
   "execution_count": 1,
   "id": "81564f11",
   "metadata": {},
   "outputs": [
    {
     "data": {
      "text/plain": [
       "6"
      ]
     },
     "execution_count": 1,
     "metadata": {},
     "output_type": "execute_result"
    }
   ],
   "source": [
    "2 + 4 "
   ]
  }
 ],
 "metadata": {
  "kernelspec": {
   "display_name": "Julia 1.6.0",
   "language": "julia",
   "name": "julia-1.6"
  },
  "language_info": {
   "file_extension": ".jl",
   "mimetype": "application/julia",
   "name": "julia",
   "version": "1.6.0"
  }
 },
 "nbformat": 4,
 "nbformat_minor": 5
}
