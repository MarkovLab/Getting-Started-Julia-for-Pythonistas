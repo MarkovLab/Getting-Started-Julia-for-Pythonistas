{
 "cells": [
  {
   "cell_type": "markdown",
   "id": "cd7561b4",
   "metadata": {},
   "source": [
    "# Section 3: Basics - Variables and Functions"
   ]
  },
  {
   "cell_type": "markdown",
   "id": "2515d5a9-532d-44c2-928e-6f0565c40534",
   "metadata": {},
   "source": [
    "## Variables"
   ]
  },
  {
   "cell_type": "code",
   "execution_count": 1,
   "id": "cc1882aa",
   "metadata": {},
   "outputs": [
    {
     "data": {
      "text/plain": [
       "6"
      ]
     },
     "execution_count": 1,
     "metadata": {},
     "output_type": "execute_result"
    }
   ],
   "source": [
    "2 + 4"
   ]
  },
  {
   "cell_type": "code",
   "execution_count": 1,
   "id": "09ea71e5-ec5b-4793-80e3-c5f9734426cd",
   "metadata": {},
   "outputs": [
    {
     "data": {
      "text/plain": [
       "8"
      ]
     },
     "execution_count": 1,
     "metadata": {},
     "output_type": "execute_result"
    }
   ],
   "source": [
    "a = 8"
   ]
  },
  {
   "cell_type": "code",
   "execution_count": 2,
   "id": "240aa6f1-0685-4fef-ba64-a7befacfec7d",
   "metadata": {},
   "outputs": [
    {
     "data": {
      "text/plain": [
       "10"
      ]
     },
     "execution_count": 2,
     "metadata": {},
     "output_type": "execute_result"
    }
   ],
   "source": [
    "const b = 10"
   ]
  },
  {
   "cell_type": "code",
   "execution_count": 3,
   "id": "09098ac4-48dc-4ed8-983f-adb8b6da9dfd",
   "metadata": {},
   "outputs": [
    {
     "name": "stderr",
     "output_type": "stream",
     "text": [
      "WARNING: redefinition of constant b. This may fail, cause incorrect answers, or produce other errors.\n"
     ]
    },
    {
     "data": {
      "text/plain": [
       "9"
      ]
     },
     "execution_count": 3,
     "metadata": {},
     "output_type": "execute_result"
    }
   ],
   "source": [
    "b = 9"
   ]
  },
  {
   "cell_type": "code",
   "execution_count": 7,
   "id": "61bbf5df-1cef-483c-9c44-b58c643dce69",
   "metadata": {},
   "outputs": [
    {
     "data": {
      "text/plain": [
       "144"
      ]
     },
     "execution_count": 7,
     "metadata": {},
     "output_type": "execute_result"
    }
   ],
   "source": [
    "θ = 12\n",
    "\n",
    "θ * 12"
   ]
  },
  {
   "cell_type": "markdown",
   "id": "87d6c446-a14f-4e30-870b-fd192a633856",
   "metadata": {},
   "source": [
    "`\\theta`   $\\theta$\n",
    "\n",
    "\\phi $\\phi$"
   ]
  },
  {
   "cell_type": "markdown",
   "id": "830f7424-56d7-4e4d-9f29-af38c39a0f61",
   "metadata": {},
   "source": [
    "## Comments"
   ]
  },
  {
   "cell_type": "code",
   "execution_count": 5,
   "id": "6cb9849e-b602-45ea-adcf-0bdb151f1e51",
   "metadata": {},
   "outputs": [],
   "source": [
    "# Comments"
   ]
  },
  {
   "cell_type": "markdown",
   "id": "8626b906-b113-4907-a9a7-81ccca88756f",
   "metadata": {},
   "source": [
    "## Characters & Strings"
   ]
  },
  {
   "cell_type": "code",
   "execution_count": 8,
   "id": "f4c221c5-c968-4b04-b8c3-93c73bfd9f4a",
   "metadata": {},
   "outputs": [
    {
     "data": {
      "text/plain": [
       "\"Hello World\""
      ]
     },
     "execution_count": 8,
     "metadata": {},
     "output_type": "execute_result"
    }
   ],
   "source": [
    "\"Hello\" * \" \" * \"World\""
   ]
  },
  {
   "cell_type": "code",
   "execution_count": 9,
   "id": "b7067070-e6ad-4d4e-b922-33501c38180e",
   "metadata": {},
   "outputs": [
    {
     "data": {
      "text/plain": [
       "'H': ASCII/Unicode U+0048 (category Lu: Letter, uppercase)"
      ]
     },
     "execution_count": 9,
     "metadata": {},
     "output_type": "execute_result"
    }
   ],
   "source": [
    "'H'"
   ]
  },
  {
   "cell_type": "code",
   "execution_count": 10,
   "id": "b4c677f2-b540-4042-ae2a-bc5f1079c8a9",
   "metadata": {},
   "outputs": [
    {
     "data": {
      "text/plain": [
       "Char"
      ]
     },
     "execution_count": 10,
     "metadata": {},
     "output_type": "execute_result"
    }
   ],
   "source": [
    "typeof('H')"
   ]
  },
  {
   "cell_type": "code",
   "execution_count": 12,
   "id": "bbaaf234-33b4-458a-b1e1-c137cf0b02ff",
   "metadata": {},
   "outputs": [
    {
     "data": {
      "text/plain": [
       "String"
      ]
     },
     "execution_count": 12,
     "metadata": {},
     "output_type": "execute_result"
    }
   ],
   "source": [
    "typeof(\"Hello\")"
   ]
  },
  {
   "cell_type": "code",
   "execution_count": 14,
   "id": "74396a8d-e159-4609-9209-099f22f123d4",
   "metadata": {},
   "outputs": [
    {
     "data": {
      "text/plain": [
       "\"lollollollollol\""
      ]
     },
     "execution_count": 14,
     "metadata": {},
     "output_type": "execute_result"
    }
   ],
   "source": [
    "\"lol\"^5"
   ]
  }
 ],
 "metadata": {
  "kernelspec": {
   "display_name": "Julia 1.6.0",
   "language": "julia",
   "name": "julia-1.6"
  },
  "language_info": {
   "file_extension": ".jl",
   "mimetype": "application/julia",
   "name": "julia",
   "version": "1.6.0"
  }
 },
 "nbformat": 4,
 "nbformat_minor": 5
}
